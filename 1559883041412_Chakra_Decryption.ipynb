{
 "cells": [
  {
   "cell_type": "code",
   "execution_count": 1,
   "metadata": {
    "collapsed": false
   },
   "outputs": [
   ],
   "source": [
    "import random\n",
    "import math\n",
    "import binascii\n",
    "import numpy as np"
   ]
  },
  {
   "cell_type": "code",
   "execution_count": 2,
   "metadata": {
    "collapsed": false
   },
   "outputs": [
   ],
   "source": [
    "def import_file(filename):    \n",
    "    extension = filename.split('.')[1]\n",
    "    Bytes = np.fromfile(filename,dtype=\"uint8\")\n",
    "    Bits = np.unpackbits(Bytes)\n",
    "    bits=[]\n",
    "    for i in range(0,len(Bits),1):\n",
    "        bits.append(Bits[i])\n",
    "    return bits,extension"
   ]
  },
  {
   "cell_type": "code",
   "execution_count": 3,
   "metadata": {
    "cocalc": {
     "outputs": {
      "0": {
       "name": "input",
       "opts": {
        "password": false,
        "prompt": "Enter File to Decrypt:"
       },
       "output_type": "stream",
       "value": "enc.py"
      }
     }
    },
    "collapsed": false
   },
   "outputs": [
    {
     "name": "stdout",
     "output_type": "stream",
     "text": "Enter File to Decrypt: enc.py"
    }
   ],
   "source": [
    "file=input(\"Enter File to Decrypt:\")\n",
    "value,extension=import_file(file)"
   ]
  },
  {
   "cell_type": "code",
   "execution_count": 4,
   "metadata": {
    "cocalc": {
     "outputs": {
      "0": {
       "name": "input",
       "opts": {
        "password": false,
        "prompt": "Enter Key String:"
       },
       "output_type": "stream",
       "value": "3230302432303024323024393639362433363024302430243336302433363024393024333630243138302439302430243237302431383024302431383024302431383024323730243237302432373024302431383024323730243024333630243237302439302433363024393024302430243138302432373024302439302432373024333630243024333630243024323730243024302430243237302430243138302439302431383024302432373024323730243930243138302430243024323730243336302431383024313830243930243024"
      }
     }
    },
    "collapsed": false
   },
   "outputs": [
    {
     "name": "stdout",
     "output_type": "stream",
     "text": "Enter Key String: 3230302432303024323024393639362433363024302430243336302433363024393024333630243138302439302430243237302431383024302431383024302431383024323730243237302432373024302431383024323730243024333630243237302439302433363024393024302430243138302432373024302439302432373024333630243024333630243024323730243024302430243237302430243138302439302431383024302432373024323730243930243138302430243024323730243336302431383024313830243930243024"
    }
   ],
   "source": [
    "keybits=input(\"Enter Key String:\")\n",
    "key=binascii.unhexlify(keybits)\n",
    "#print(key,type(key))\n",
    "key=key.decode('utf-8')\n",
    "key1 =key.split('$')\n",
    "XL=int(key1[0])\n",
    "YL=int(key1[1])\n",
    "r=int(key1[2])\n",
    "P=int(key1[3])\n",
    "rotate=[]\n",
    "for i in range(4,len(key1),1):\n",
    "    if(key1[i]==''):\n",
    "        continue\n",
    "    rotate.append(int(key1[i]))\n",
    "rotate =rotate[::-1]"
   ]
  },
  {
   "cell_type": "code",
   "execution_count": 5,
   "metadata": {
    "collapsed": false
   },
   "outputs": [
   ],
   "source": [
    "xy=[]\n",
    "for i in range(0,XL+1,1):\n",
    "    for j in range(0,YL+1,1):\n",
    "        xy.append(str(i)+\",\"+str(j))        "
   ]
  },
  {
   "cell_type": "code",
   "execution_count": 6,
   "metadata": {
    "collapsed": false
   },
   "outputs": [
   ],
   "source": [
    "for i in range(-(r),XL+1+r,1):\n",
    "    for j in range(-(r),YL+1+r,1):\n",
    "        if(i<0 or j<0 or i>=XL or j>=YL):\n",
    "            xy.append(str(i)+\",\"+str(j))"
   ]
  },
  {
   "cell_type": "code",
   "execution_count": 7,
   "metadata": {
    "collapsed": false
   },
   "outputs": [
   ],
   "source": [
    "#print(xy)"
   ]
  },
  {
   "cell_type": "code",
   "execution_count": 8,
   "metadata": {
    "collapsed": false
   },
   "outputs": [
   ],
   "source": [
    "def sort1(val):\n",
    "    return val[1]\n",
    "circles=[]\n",
    "for i in range(0,XL+1,r+r):\n",
    "    for j in range(0,YL+1,r+r):\n",
    "        circles.append([i,j])\n",
    "for i in range(r,XL+1-r,r+r):\n",
    "    for j in range(r,YL+1-r,r+r):\n",
    "        circles.append([i,j])\n",
    "circles.sort(key=sort1)"
   ]
  },
  {
   "cell_type": "code",
   "execution_count": 9,
   "metadata": {
    "collapsed": false
   },
   "outputs": [
   ],
   "source": [
    "#print(circles)"
   ]
  },
  {
   "cell_type": "code",
   "execution_count": 10,
   "metadata": {
    "collapsed": false
   },
   "outputs": [
   ],
   "source": [
    "points=[]\n",
    "for a in range(0,len(circles),1):\n",
    "    h = circles[a][0]\n",
    "    k = circles[a][1]\n",
    "    d = 3-(2*r) \n",
    "    x = 0\n",
    "    y = r\n",
    "    while(y>=x):\n",
    "        if(d > 0):\n",
    "            x += 1\n",
    "            y -= 1\n",
    "            d += 4*(x-y)+10\n",
    "        if(d<0):\n",
    "            x += 1\n",
    "            d += (4*x)+6\n",
    "        points.append([h+x,k+y])\n",
    "        points.append([h-x,k+y])\n",
    "        points.append([h+x,k-y])\n",
    "        points.append([h-x,k-y])\n",
    "        points.append([h+y,k+x])\n",
    "        points.append([h-y,k+x])\n",
    "        points.append([h+y,k-x])\n",
    "        points.append([h-y,k-x])\n",
    "\n",
    "    points.append(\"e\")"
   ]
  },
  {
   "cell_type": "code",
   "execution_count": 11,
   "metadata": {
    "collapsed": false
   },
   "outputs": [
   ],
   "source": [
    "circles=circles[::-1]\n",
    "#print(circles)\n",
    "points.pop()\n",
    "points=points[::-1]\n",
    "points.append('e')\n",
    "#print(points)"
   ]
  },
  {
   "cell_type": "code",
   "execution_count": 12,
   "metadata": {
    "collapsed": false
   },
   "outputs": [
   ],
   "source": [
    "c=0;\n",
    "for a in range(0,len(circles),1):\n",
    "    h=circles[a][0]\n",
    "    k=circles[a][1]\n",
    "    rotpoints=[]\n",
    "    for j in range(c,points.index('e')+1,1):\n",
    "        if(points[j]=='e'):\n",
    "            break\n",
    "        else:\n",
    "            rotpoints.append([points[j][0],points[j][1], value[xy.index(str(points[j][0])+\",\"+str(points[j][1]))]])\n",
    "    counter=0\n",
    "    for i in range(c,points.index('e')+1,1):\n",
    "        if(points[i]=='e'):\n",
    "            c=points.index('e')+1\n",
    "            points[points.index('e')]='a'\n",
    "            rotpoints.clear()\n",
    "            counter=0\n",
    "            break;\n",
    "        else:\n",
    "            p0=rotpoints[counter][0]\n",
    "            p1=rotpoints[counter][1]\n",
    "            i1=rotpoints[counter][2]\n",
    "            pi=h+(p0-h)*round(math.cos(math.radians(-rotate[a])))-(p1-k)*round(math.sin(math.radians(-rotate[a])))\n",
    "            pj=k+(p0-h)*round(math.sin(math.radians(-rotate[a])))-(p1-k)*round(math.cos(math.radians(-rotate[a])))\n",
    "            value[xy.index(str(pi)+\",\"+str(pj))]=i1\n",
    "            counter+=1"
   ]
  },
  {
   "cell_type": "code",
   "execution_count": 13,
   "metadata": {
    "collapsed": false
   },
   "outputs": [
   ],
   "source": [
    "decipher=value[0:P]\n",
    "Bytes = np.packbits(decipher)\n",
    "str1=[]\n",
    "import binascii\n",
    "for i in range(0,len(Bytes),1):\n",
    "    try:\n",
    "        str1.append(binascii.unhexlify(\"%x\"%Bytes[i]))\n",
    "    except: \n",
    "        str1.append(binascii.unhexlify(\"0%x\" %Bytes[i]))\n",
    "#print(str1)\n",
    "text=b''.join(str1)\n",
    "#print(text)\n",
    "\n",
    "#print(text)"
   ]
  },
  {
   "cell_type": "code",
   "execution_count": 0,
   "metadata": {
    "collapsed": false
   },
   "outputs": [
   ],
   "source": [
   ]
  },
  {
   "cell_type": "code",
   "execution_count": 14,
   "metadata": {
    "collapsed": false
   },
   "outputs": [
   ],
   "source": [
    "filename=\"dec.\"+extension\n",
    "with open(filename,'wb') as f:\n",
    "    f.write(text)"
   ]
  }
 ],
 "metadata": {
  "kernelspec": {
   "display_name": "Python 3 (Ubuntu Linux)",
   "language": "python",
   "metadata": {
    "cocalc": {
     "description": "Python 3 programming language",
     "priority": 100,
     "url": "https://www.python.org/"
    }
   },
   "name": "python3"
  },
  "language_info": {
   "codemirror_mode": {
    "name": "ipython",
    "version": 3
   },
   "file_extension": ".py",
   "mimetype": "text/x-python",
   "name": "python",
   "nbconvert_exporter": "python",
   "pygments_lexer": "ipython3",
   "version": "3.6.7"
  }
 },
 "nbformat": 4,
 "nbformat_minor": 0
}