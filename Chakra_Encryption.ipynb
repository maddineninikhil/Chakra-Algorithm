{
 "cells": [
  {
   "cell_type": "code",
   "execution_count": 1,
   "metadata": {
    "collapsed": false
   },
   "outputs": [
   ],
   "source": [
    "import random\n",
    "import math\n",
    "import pickle\n",
    "import binascii\n",
    "import numpy as np"
   ]
  },
  {
   "cell_type": "code",
   "execution_count": 2,
   "metadata": {
    "collapsed": false
   },
   "outputs": [
   ],
   "source": [
    "def import_file(filename):    \n",
    "    extension = filename.split('.')[1]\n",
    "    Bytes = np.fromfile(filename,dtype=\"uint8\")\n",
    "    Bits = np.unpackbits(Bytes)\n",
    "    bits=[]\n",
    "    for i in range(0,len(Bits),1):\n",
    "        bits.append(Bits[i])\n",
    "    return bits,extension"
   ]
  },
  {
   "cell_type": "code",
   "execution_count": 3,
   "metadata": {
    "cocalc": {
     "outputs": {
      "0": {
       "name": "input",
       "opts": {
        "password": false,
        "prompt": "Enter File to Encrypt:"
       },
       "output_type": "stream",
       "value": "Abstract.pdf"
      }
     }
    },
    "collapsed": false
   },
   "outputs": [
    {
     "name": "stdout",
     "output_type": "stream",
     "text": "Enter File to Encrypt: Abstract.pdf"
    }
   ],
   "source": [
    "file=input(\"Enter File to Encrypt:\")\n",
    "value,extension=import_file(file)\n",
    "P=len(value)"
   ]
  },
  {
   "cell_type": "code",
   "execution_count": 4,
   "metadata": {
    "cocalc": {
     "outputs": {
      "0": {
       "name": "input",
       "opts": {
        "password": false,
        "prompt": "Enter X-Length:"
       },
       "output_type": "stream"
      }
     }
    },
    "collapsed": false
   },
   "outputs": [
    {
     "name": "stdout",
     "output_type": "stream",
     "text": "Enter X-Length: "
    }
   ],
   "source": [
    "while(True):\n",
    "    XL= int(input(\"Enter X-Length:\"))\n",
    "    YL= int(input(\"Enter Y-Length:\"))\n",
    "    if(P==(XL*YL)):\n",
    "        r = int(input(\"Enter Radius of circle:\"))\n",
    "        break;\n",
    "    elif(P<(XL*YL)):\n",
    "        r = int(input(\"Enter Radius of circle:\"))\n",
    "        break;\n",
    "    else:\n",
    "        print(\"Please Reenter Coordinates:\")"
   ]
  },
  {
   "cell_type": "code",
   "execution_count": 0,
   "metadata": {
    "collapsed": false
   },
   "outputs": [
   ],
   "source": [
    "for i in range(len(value),(XL+1)*(YL+1),1):\n",
    "    value.append(random.choice([0,1]))"
   ]
  },
  {
   "cell_type": "code",
   "execution_count": 0,
   "metadata": {
    "collapsed": false
   },
   "outputs": [
   ],
   "source": [
    "xy=[]\n",
    "for i in range(0,XL+1,1):\n",
    "    for j in range(0,YL+1,1):\n",
    "        xy.append(str(i)+\",\"+str(j))        "
   ]
  },
  {
   "cell_type": "code",
   "execution_count": 0,
   "metadata": {
    "collapsed": false
   },
   "outputs": [
   ],
   "source": [
    "for i in range(-(r),XL+1+r,1):\n",
    "    for j in range(-(r),YL+1+r,1):\n",
    "        if(i<0 or j<0 or i>=XL or j>=YL):\n",
    "            xy.append(str(i)+\",\"+str(j))\n",
    "            value.append(random.choice([0,1]))"
   ]
  },
  {
   "cell_type": "code",
   "execution_count": 0,
   "metadata": {
    "collapsed": false
   },
   "outputs": [
   ],
   "source": [
    "#print(len(xy))\n",
    "#print(len(value))"
   ]
  },
  {
   "cell_type": "code",
   "execution_count": 0,
   "metadata": {
    "collapsed": false
   },
   "outputs": [
   ],
   "source": [
    "def sort1(val):\n",
    "    return val[1]\n",
    "circles=[]\n",
    "for i in range(0,XL+1,r+r):\n",
    "    for j in range(0,YL+1,r+r):\n",
    "        circles.append([i,j])\n",
    "for i in range(r,XL+1-r,r+r):\n",
    "    for j in range(r,YL+1-r,r+r):\n",
    "        circles.append([i,j])\n",
    "circles.sort(key=sort1)"
   ]
  },
  {
   "cell_type": "code",
   "execution_count": 0,
   "metadata": {
    "collapsed": false
   },
   "outputs": [
   ],
   "source": [
    "#print(circles)"
   ]
  },
  {
   "cell_type": "code",
   "execution_count": 0,
   "metadata": {
    "collapsed": false
   },
   "outputs": [
   ],
   "source": [
    "rotate=[]\n",
    "for i in range(0,len(circles),1):\n",
    "    rotate.append(random.choice([0, 90, 180, 270, 360]))\n",
    "#print(rotate)"
   ]
  },
  {
   "cell_type": "code",
   "execution_count": 0,
   "metadata": {
    "collapsed": false
   },
   "outputs": [
   ],
   "source": [
    "points=[]\n",
    "for a in range(0,len(circles),1):\n",
    "    h = circles[a][0]\n",
    "    k = circles[a][1]\n",
    "    d = 3-(2*r) \n",
    "    x = 0\n",
    "    y = r\n",
    "    while(y>=x):\n",
    "        if(d > 0):\n",
    "            x += 1\n",
    "            y -= 1\n",
    "            d += 4*(x-y)+10\n",
    "        if(d<0):\n",
    "            x += 1\n",
    "            d += (4*x)+6\n",
    "        points.append([h+x,k+y])\n",
    "        points.append([h-x,k+y])\n",
    "        points.append([h+x,k-y])\n",
    "        points.append([h-x,k-y])\n",
    "        points.append([h+y,k+x])\n",
    "        points.append([h-y,k+x])\n",
    "        points.append([h+y,k-x])\n",
    "        points.append([h-y,k-x])\n",
    "\n",
    "    points.append(\"e\")"
   ]
  },
  {
   "cell_type": "code",
   "execution_count": 0,
   "metadata": {
    "collapsed": false
   },
   "outputs": [
   ],
   "source": [
    "#print(points)"
   ]
  },
  {
   "cell_type": "code",
   "execution_count": 0,
   "metadata": {
    "collapsed": false
   },
   "outputs": [
   ],
   "source": [
    "c=0;\n",
    "for a in range(0,len(circles),1):\n",
    "    h=circles[a][0]\n",
    "    k=circles[a][1]\n",
    "    rotpoints=[]\n",
    "    for j in range(c,points.index('e')+1,1):\n",
    "        if(points[j]=='e'):\n",
    "            break\n",
    "        else:\n",
    "            rotpoints.append([points[j][0],points[j][1], value[xy.index(str(points[j][0])+\",\"+str(points[j][1]))]])\n",
    "    counter=0\n",
    "    for i in range(c,points.index('e')+1,1):\n",
    "        if(points[i]=='e'):\n",
    "            c=points.index('e')+1\n",
    "            points[points.index('e')]='a'\n",
    "            rotpoints.clear()\n",
    "            counter=0\n",
    "            break;\n",
    "        else:\n",
    "            p0=rotpoints[counter][0]\n",
    "            p1=rotpoints[counter][1]\n",
    "            i1=rotpoints[counter][2]\n",
    "            pi=h+(p0-h)*round(math.cos(math.radians(rotate[a])))-(p1-k)*round(math.sin(math.radians(rotate[a])))\n",
    "            pj=k+(p0-h)*round(math.sin(math.radians(rotate[a])))-(p1-k)*round(math.cos(math.radians(rotate[a])))\n",
    "            value[xy.index(str(pi)+\",\"+str(pj))]=i1\n",
    "            counter+=1"
   ]
  },
  {
   "cell_type": "code",
   "execution_count": 0,
   "metadata": {
    "collapsed": false,
    "scrolled": true
   },
   "outputs": [
   ],
   "source": [
    "#print(value)\n",
    "#print(len(value))"
   ]
  },
  {
   "cell_type": "code",
   "execution_count": 0,
   "metadata": {
    "collapsed": false
   },
   "outputs": [
   ],
   "source": [
    "Bytes = np.packbits(value)\n",
    "#print(newdata)\n",
    "str1=[]\n",
    "for i in range(0,len(Bytes),1):\n",
    "    try:\n",
    "        str1.append(binascii.unhexlify(\"%x\"%Bytes[i]))\n",
    "    except: \n",
    "        str1.append(binascii.unhexlify(\"0%x\" %Bytes[i]))\n",
    "#print(str1)\n",
    "text=b''.join(str1)\n",
    "filename=\"enc.\"+extension\n",
    "\n",
    "#print(list1)\n",
    "with open(filename,'wb') as f:\n",
    "    f.write(text)\n",
    "#np.save(filename,newdata)"
   ]
  },
  {
   "cell_type": "code",
   "execution_count": 0,
   "metadata": {
    "collapsed": false
   },
   "outputs": [
   ],
   "source": [
    "P"
   ]
  },
  {
   "cell_type": "code",
   "execution_count": 0,
   "metadata": {
    "collapsed": false
   },
   "outputs": [
   ],
   "source": [
    "#with open('outfile','wb') as fp:\n",
    "   # pickle.dump(value,fp)"
   ]
  },
  {
   "cell_type": "code",
   "execution_count": 0,
   "metadata": {
    "collapsed": false
   },
   "outputs": [
   ],
   "source": [
    "rt=\"\"\n",
    "for i in range(0,len(rotate),1):\n",
    "    rt=rt+str(rotate[i])+\"$\"\n",
    "key=(str(XL)+\"$\"+str(YL)+\"$\"+str(r)+\"$\"+str(P)+\"$\"+str(rt)).encode('utf-8')"
   ]
  },
  {
   "cell_type": "code",
   "execution_count": 0,
   "metadata": {
    "collapsed": false
   },
   "outputs": [
   ],
   "source": [
    "key=binascii.hexlify(key)\n",
    "print(str(key)[2:])"
   ]
  }
 ],
 "metadata": {
  "kernelspec": {
   "display_name": "Python 3 (Ubuntu Linux)",
   "language": "python",
   "metadata": {
    "cocalc": {
     "description": "Python 3 programming language",
     "priority": 100,
     "url": "https://www.python.org/"
    }
   },
   "name": "python3"
  },
  "language_info": {
   "codemirror_mode": {
    "name": "ipython",
    "version": 3
   },
   "file_extension": ".py",
   "mimetype": "text/x-python",
   "name": "python",
   "nbconvert_exporter": "python",
   "pygments_lexer": "ipython3",
   "version": "3.6.7"
  }
 },
 "nbformat": 4,
 "nbformat_minor": 0
}
